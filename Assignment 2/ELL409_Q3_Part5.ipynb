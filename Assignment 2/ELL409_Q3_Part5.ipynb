{
  "nbformat": 4,
  "nbformat_minor": 0,
  "metadata": {
    "colab": {
      "name": "ELL409_Q3_Part5.ipynb",
      "provenance": [],
      "collapsed_sections": []
    },
    "kernelspec": {
      "name": "python3",
      "display_name": "Python 3"
    }
  },
  "cells": [
    {
      "cell_type": "code",
      "metadata": {
        "id": "3NbVKOHKOCWJ"
      },
      "source": [
        "import numpy as np\r\n",
        "#import math\r\n",
        "\r\n",
        "import torch\r\n",
        "\r\n",
        "from torch.autograd import Variable\r\n",
        "\r\n",
        "import torch.nn as nn\r\n",
        "import torch.nn.functional as F\r\n",
        "\r\n",
        "import torch.optim as optim\r\n",
        "\r\n",
        "import torchvision\r\n",
        "import torchvision.transforms as transforms\r\n",
        "import matplotlib.pyplot as plt\r\n",
        "from sklearn.decomposition import PCA\r\n",
        "from sklearn.manifold import TSNE"
      ],
      "execution_count": 1,
      "outputs": []
    },
    {
      "cell_type": "code",
      "metadata": {
        "id": "b5K7wLc_PFuX"
      },
      "source": [
        "# transform = transforms.Compose([transforms.ToTensor()]) #change normalize values if need be"
      ],
      "execution_count": 4,
      "outputs": []
    },
    {
      "cell_type": "code",
      "metadata": {
        "id": "RR0WhEufNs05"
      },
      "source": [
        "svhn = torchvision.datasets.SVHN('/tmp', download=True)\r\n",
        "mnist = torchvision.datasets.MNIST('/tmp', download=True)"
      ],
      "execution_count": null,
      "outputs": []
    },
    {
      "cell_type": "code",
      "metadata": {
        "id": "3uGWPVWrPKqz"
      },
      "source": [
        "# svhn_loader = torch.utils.data.DataLoader(dataset=svhn,\r\n",
        "#                                           batch_size=1,\r\n",
        "#                                           shuffle=True,\r\n",
        "#                                           num_workers=2)\r\n",
        "\r\n",
        "# mnist_loader = torch.utils.data.DataLoader(dataset=mnist,\r\n",
        "#                                             batch_size=1,\r\n",
        "#                                             shuffle=True,\r\n",
        "#                                             num_workers=2)"
      ],
      "execution_count": 10,
      "outputs": []
    },
    {
      "cell_type": "code",
      "metadata": {
        "id": "171r8U_McOsv"
      },
      "source": [
        "print(svhn.data.shape)\r\n",
        "print(svhn.data.reshape(73257,3*32*32)[0].shape)"
      ],
      "execution_count": null,
      "outputs": []
    },
    {
      "cell_type": "code",
      "metadata": {
        "id": "S5dgXk1xNIYc"
      },
      "source": [
        "new_data = []\r\n",
        "new_labs = []\r\n",
        "for val in range(svhn.data.shape[0]):\r\n",
        "  if(svhn.labels[val]==0):\r\n",
        "    new_labs.append(svhn.labels[val])\r\n",
        "    new_data.append(svhn.data[val])\r\n",
        "  \r\n",
        "  if(svhn.labels[val]==5):\r\n",
        "    new_labs.append(svhn.labels[val])\r\n",
        "    new_data.append(svhn.data[val])"
      ],
      "execution_count": 27,
      "outputs": []
    },
    {
      "cell_type": "code",
      "metadata": {
        "id": "U9RZJbZePTWw"
      },
      "source": [
        "pca = PCA(n_components=3, svd_solver='full')\r\n",
        "pca.fit(svhn.data.reshape(73257,3*32*32))"
      ],
      "execution_count": null,
      "outputs": []
    },
    {
      "cell_type": "code",
      "metadata": {
        "id": "dk-dTiA2dgwd"
      },
      "source": [
        "# from mpl_toolkits.mplot3d import Axes3D\r\n",
        "# fig = plt.figure()\r\n",
        "# ax = fig.add_subplot(111, projection='3d')\r\n",
        "\r\n",
        "# cols = ['r','b','#35ed7d','g','k','m','#c29d94','#a18706','#7a2c4c','#f6b4de']\r\n",
        "# for comp in range(73257):\r\n",
        "#   ax.scatter(pca.components_[comp][0],pca.components_[comp][1],c=cols[svhn.labels[comp]])\r\n",
        "\r\n",
        "# plt.title(\"PCA\")"
      ],
      "execution_count": 57,
      "outputs": []
    },
    {
      "cell_type": "code",
      "metadata": {
        "id": "yr8qVpszP-gU"
      },
      "source": [
        "tsne = TSNE(n_components=2, verbose=1, perplexity=10, n_iter=250)\r\n",
        "tsne_results = tsne.fit_transform(np.asarray(new_data).reshape(len(new_data),3*32*32))"
      ],
      "execution_count": null,
      "outputs": []
    },
    {
      "cell_type": "code",
      "metadata": {
        "id": "sUZyBUwzzWjU"
      },
      "source": [
        "# print(tsne_results[:,0])"
      ],
      "execution_count": null,
      "outputs": []
    },
    {
      "cell_type": "code",
      "metadata": {
        "id": "Fr7UpVKXwBdt"
      },
      "source": [
        "# fig = plt.figure()\r\n",
        "\r\n",
        "# for comp in range(len(new_data)):\r\n",
        "#   if(new_labs[comp]==0):\r\n",
        "#     plt.scatter(tsne_results[comp][0],tsne_results[comp][1],c='r')\r\n",
        "#   else:\r\n",
        "#     plt.scatter(tsne_results[comp][0],tsne_results[comp][1],c='b')"
      ],
      "execution_count": null,
      "outputs": []
    }
  ]
}