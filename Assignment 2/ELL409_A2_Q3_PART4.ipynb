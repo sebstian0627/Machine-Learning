{
  "nbformat": 4,
  "nbformat_minor": 0,
  "metadata": {
    "colab": {
      "name": "ELL409_A2_Q3_PART4.ipynb",
      "provenance": [],
      "collapsed_sections": []
    },
    "kernelspec": {
      "name": "python2",
      "display_name": "Python 2"
    }
  },
  "cells": [
    {
      "cell_type": "code",
      "metadata": {
        "id": "cYoLHTZSZowS"
      },
      "source": [
        "from sklearn import datasets, linear_model, preprocessing, decomposition, manifold\r\n",
        "from sklearn.metrics import make_scorer, accuracy_score\r\n",
        "import numpy as np\r\n",
        "from sklearn.model_selection import cross_validate, cross_val_score, train_test_split"
      ],
      "execution_count": 3,
      "outputs": []
    },
    {
      "cell_type": "code",
      "metadata": {
        "id": "b0yR7P-Ca6kQ"
      },
      "source": [
        "# We use a digit dataset 10 classes\r\n",
        "X, y = datasets.load_digits().data, datasets.load_digits().target\r\n",
        "\r\n",
        "lbl = preprocessing.LabelEncoder()\r\n",
        "#only train on samples w label 0,1,2,7,8\r\n",
        "y_train = lbl.fit_transform(y[np.where((y == 0) | (y == 1) | (y == 2) | (y == 7) | (y == 8))])\r\n",
        "X_train = X[np.where((y == 0) | (y == 1) | (y == 2) | (y == 7) | (y == 8))]\r\n",
        "\r\n",
        "X_train_given,X_test_given,y_train_given,y_test_given = train_test_split(X_train,y_train,test_size=0.2)\r\n",
        "\r\n",
        "\r\n",
        "\r\n",
        "# We have Weight matrix, W, d x z\r\n",
        "model = linear_model.LogisticRegression(random_state=1)\r\n",
        "model.fit(X_train_given, y_train_given)\r\n",
        "W = model.coef_.T\r\n",
        "\r\n",
        "#cross validation\r\n",
        "print cross_val_score(model, X_train_given, y_train_given, scoring=make_scorer(accuracy_score))\r\n",
        "\r\n",
        "#accuracy only on given samples\r\n",
        "s1 = accuracy_score(model.predict(X_test_given),y_test_given)\r\n",
        "\r\n",
        "#accuracy on the samples which aren't given\r\n",
        "s2 = accuracy_score(model.predict(X[np.where((y == 3) | (y == 4) | (y == 5) | (y == 6) | (y == 9))]),y[np.where((y == 3) | (y == 4) | (y == 5) | (y == 6) | (y == 9))])\r\n",
        "#s2 = accuracy_score(model.predict(X_test_un),y_test_un)\r\n",
        "\r\n",
        "v = s1*len(X_test_given) + s2*len(X[np.where((y == 3) | (y == 4) | (y == 5) | (y == 6) | (y == 9))])\r\n",
        "v = v/ (len(X[np.where((y == 3) | (y == 4) | (y == 5) | (y == 6) | (y == 9))])+len(X_test_given))\r\n",
        "print(s1,s2,v)"
      ],
      "execution_count": null,
      "outputs": []
    },
    {
      "cell_type": "code",
      "metadata": {
        "id": "lTcBsoxge9A7"
      },
      "source": [
        "X_train = X_train_given\r\n",
        "y_train = y_train_given"
      ],
      "execution_count": 41,
      "outputs": []
    },
    {
      "cell_type": "code",
      "metadata": {
        "id": "RvUrh9_5iTsr"
      },
      "source": [
        "# We have a attributes, a=4 [pca_d1, pca_d2, lle_d1, lle_d2]\n",
        "# We have Signature matrix, S a x z\n",
        "pca = decomposition.PCA(n_components=2)\n",
        "lle = manifold.LocallyLinearEmbedding(n_components=2, random_state=1)\n",
        "X_pca = pca.fit_transform(X_train)\n",
        "X_lle = lle.fit_transform(X_train)\n",
        "\n",
        "for i, ys in enumerate(np.unique(y_train)):\n",
        "\tif i == 0:\n",
        "\t\tS = np.r_[ np.mean(X_pca[y_train == ys], axis=0), np.mean(X_lle[y_train == ys], axis=0) ]\n",
        "\telse:\n",
        "\t\tS = np.c_[S, np.r_[ np.mean(X_pca[y_train == ys], axis=0), np.mean(X_lle[y_train == ys], axis=0) ]]\n",
        "\n",
        "# From W and S calculate V, d x a\n",
        "V = np.linalg.lstsq(S.T, W.T)[0].T\n",
        "\n",
        "W_new = np.dot(S.T, V.T).T\n",
        "\n",
        "print \"%f\"%np.sum(np.sqrt((W_new-W)**2))\n",
        "\n",
        "for ys, x in zip(y_train, X_train):\n",
        "\tprint np.argmax(np.dot(x.T, W_new)), ys\n",
        "\n",
        "# INFERENCE\n",
        "lbl = preprocessing.LabelEncoder()\n",
        "y_test = lbl.fit_transform(y[np.where((y == 3) | (y == 4) | (y == 5) | (y == 6) | (y == 9))])\n",
        "X_test = X[np.where((y == 3) | (y == 4) | (y == 5) | (y == 6)| (y == 9))]\n",
        "\n",
        "# create S' (the Signature matrix for the new classes, using the old transformers)\n",
        "X_test_un, X_sig, y_test_un, y_sig = train_test_split(X_test, y_test, test_size=5, random_state=1, stratify=y_test)\n",
        "\n",
        "X_pca = pca.transform(X_sig)\n",
        "X_lle = lle.transform(X_sig)\n",
        "\n",
        "for i, ys in enumerate(np.unique(y_sig)):\n",
        "\tif i == 0:\n",
        "\t\tS = np.r_[ np.mean(X_pca[y_sig == ys], axis=0), np.mean(X_lle[y_sig == ys], axis=0) ]\n",
        "\telse:\n",
        "\t\tS = np.c_[S, np.r_[ np.mean(X_pca[y_sig == ys], axis=0), np.mean(X_lle[y_sig == ys], axis=0) ]]\n",
        "\n",
        "# Calculate the new Weight/Coefficient matrix\t\t\n",
        "W_new = np.dot(S.T, V.T).T\n",
        "\n",
        "# Check performance\n",
        "correct = 0\n",
        "tot = 0\n",
        "for i, (ys, x) in enumerate(zip(y_test_un, X_test_un)):\n",
        "\tif np.argmax(np.dot(x.T, W_new)) == ys:\n",
        "\t\tcorrect +=1\n",
        "tot +=i\n",
        "print(correct/float(tot))\n",
        "\n",
        "corr1 = 0\n",
        "for i, (ys,x) in enumerate(zip(y_test_given, X_test_given)):\n",
        "\tif np.argmax(np.dot(x.T, W_new)) == ys:\n",
        "\t\tcorrect +=1; corr1+=1;\n",
        "\n",
        "tot+=i\n",
        "print(corr1/float(i))\n",
        "\n",
        "print correct/float(tot)"
      ],
      "execution_count": null,
      "outputs": []
    }
  ]
}